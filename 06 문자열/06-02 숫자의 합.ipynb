{
 "cells": [
  {
   "cell_type": "code",
   "execution_count": null,
   "metadata": {},
   "outputs": [],
   "source": [
    "A=int(input(\"\"))\n",
    "B=int(input(\"\"))\n",
    "B=str(B)\n",
    "C=[]\n",
    "D=0\n",
    "for i in range(A):\n",
    "    C.append(B[i])\n",
    "for j in range(A):\n",
    "    C[j]=int(C[j])\n",
    "    D+=C[j]\n",
    "print(D)"
   ]
  }
 ],
 "metadata": {
  "kernelspec": {
   "display_name": "Python 3.10.4 64-bit",
   "language": "python",
   "name": "python3"
  },
  "language_info": {
   "name": "python",
   "version": "3.10.4"
  },
  "orig_nbformat": 4,
  "vscode": {
   "interpreter": {
    "hash": "369f2c481f4da34e4445cda3fffd2e751bd1c4d706f27375911949ba6bb62e1c"
   }
  }
 },
 "nbformat": 4,
 "nbformat_minor": 2
}
